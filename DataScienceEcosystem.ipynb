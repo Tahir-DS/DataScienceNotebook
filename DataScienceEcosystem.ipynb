{
 "cells": [
  {
   "cell_type": "markdown",
   "id": "e06a1707-0bec-4b24-aa65-864d3679f103",
   "metadata": {
    "panel-layout": {
     "height": 60.5938,
     "visible": true,
     "width": 100
    }
   },
   "source": [
    "# Data Science Tools and Ecosystem"
   ]
  },
  {
   "cell_type": "markdown",
   "id": "75357a65-1c53-48d8-bda0-24394ec88e71",
   "metadata": {
    "panel-layout": {
     "height": 50.7969,
     "visible": true,
     "width": 100
    }
   },
   "source": [
    "## In this notebook, Data Science Tools and Ecosystem are summarized."
   ]
  },
  {
   "cell_type": "markdown",
   "id": "0385ea53-1f01-4eba-86b1-fffcc1a5ba8e",
   "metadata": {
    "panel-layout": {
     "height": 50.7969,
     "visible": true,
     "width": 100
    }
   },
   "source": [
    "## **Objectives:**\n",
    "- List popular languages for Data Science\n",
    "- Introduce common libraries used by Data Scientists\n",
    "- Create tables using Markdown in Jupyter Notebooks\n",
    "- Convert time units using Python expressions"
   ]
  },
  {
   "cell_type": "markdown",
   "id": "e6b3e86d-57e7-4b9a-8a78-d88f689fe1bf",
   "metadata": {
    "panel-layout": {
     "height": 118.672,
     "visible": true,
     "width": 100
    }
   },
   "source": [
    "## Some of the popular languages that Data Scientists use are:\n",
    "1. Python\n",
    "2. R\n",
    "3. SQL"
   ]
  },
  {
   "cell_type": "markdown",
   "id": "a4e28aaa-5ba7-4901-b7d7-9d0d46f3df23",
   "metadata": {
    "panel-layout": {
     "height": 118.672,
     "visible": true,
     "width": 100
    }
   },
   "source": [
    "## Some of the commonly used libraries used by Data Scientists include:\n",
    "1. NumPy\n",
    "2. Pandas\n",
    "3. Matplotlib"
   ]
  },
  {
   "cell_type": "markdown",
   "id": "10c42b10-c9c7-4080-ad69-c169b156ac76",
   "metadata": {
    "panel-layout": {
     "height": 142.672,
     "visible": true,
     "width": 100
    }
   },
   "source": [
    "## Data Science Tools\n",
    "Jupyter Notebook\n",
    "\n",
    "RStudio\n",
    "\n",
    "Apache Zeppelin\n"
   ]
  },
  {
   "cell_type": "markdown",
   "id": "17338fd8-c580-42ab-a23b-1de2ebe2a05e",
   "metadata": {
    "panel-layout": {
     "height": 44.0938,
     "visible": true,
     "width": 100
    }
   },
   "source": [
    "### Below are a few examples of evaluating arithmetic expressions in Python"
   ]
  },
  {
   "cell_type": "code",
   "execution_count": 65,
   "id": "f16f5591-a66c-49c0-8cd4-65c2801bc376",
   "metadata": {
    "panel-layout": {
     "height": 27.1406,
     "visible": true,
     "width": 100
    }
   },
   "outputs": [
    {
     "data": {
      "text/plain": [
       "17"
      ]
     },
     "execution_count": 65,
     "metadata": {},
     "output_type": "execute_result"
    }
   ],
   "source": [
    "# This a simple arithmetic expression to mutiply then add integers.\n",
    "(3*4)+5"
   ]
  },
  {
   "cell_type": "code",
   "execution_count": 71,
   "id": "8551c4d4-7dcf-4c0b-8926-4a5aa7bdd566",
   "metadata": {
    "panel-layout": {
     "height": 27.1406,
     "visible": true,
     "width": 100
    }
   },
   "outputs": [
    {
     "data": {
      "text/plain": [
       "3.3333333333333335"
      ]
     },
     "execution_count": 71,
     "metadata": {},
     "output_type": "execute_result"
    }
   ],
   "source": [
    "# This will convert 200 minutes to hours by diving by 60\n",
    "minutes = 200\n",
    "hours = 200 / 60\n",
    "hours"
   ]
  },
  {
   "cell_type": "markdown",
   "id": "12dd76b1-f29d-42a4-bc55-c573901d497d",
   "metadata": {},
   "source": [
    "## Author:\n",
    "### Tahir Karanfil"
   ]
  }
 ],
 "metadata": {
  "kernelspec": {
   "display_name": "Python 3 (ipykernel)",
   "language": "python",
   "name": "python3"
  },
  "language_info": {
   "codemirror_mode": {
    "name": "ipython",
    "version": 3
   },
   "file_extension": ".py",
   "mimetype": "text/x-python",
   "name": "python",
   "nbconvert_exporter": "python",
   "pygments_lexer": "ipython3",
   "version": "3.12.4"
  },
  "panel-cell-order": [
   "e06a1707-0bec-4b24-aa65-864d3679f103",
   "75357a65-1c53-48d8-bda0-24394ec88e71",
   "0385ea53-1f01-4eba-86b1-fffcc1a5ba8e",
   "e6b3e86d-57e7-4b9a-8a78-d88f689fe1bf",
   "a4e28aaa-5ba7-4901-b7d7-9d0d46f3df23",
   "10c42b10-c9c7-4080-ad69-c169b156ac76",
   "17338fd8-c580-42ab-a23b-1de2ebe2a05e",
   "f16f5591-a66c-49c0-8cd4-65c2801bc376",
   "8551c4d4-7dcf-4c0b-8926-4a5aa7bdd566"
  ]
 },
 "nbformat": 4,
 "nbformat_minor": 5
}
